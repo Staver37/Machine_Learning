{
 "cells": [
  {
   "cell_type": "markdown",
   "metadata": {},
   "source": [
    "# Car Pplate Detector \n",
    "\n",
    "> PART 1\n",
    "\n",
    "<img src=\"/Users/adrian/Desktop/PY-PROJECTS/Machine_Learning/cart-plate-detector/static/img1.jpg\" style=\"width:300px;height 300px\"/>\n",
    "\n",
    "### Teaching a NN to \"read\" symbols from the image\n",
    "* generate randomized images of different scales using PIL library\n",
    "* train a network detect each symbol separatly\n",
    "\n",
    "### Generate an image with a symbol"
   ]
  },
  {
   "cell_type": "code",
   "execution_count": 19,
   "metadata": {},
   "outputs": [],
   "source": [
    "# import string\n",
    "from matplotlib import pyplot as plt\n",
    "from PIL import Image,ImageDraw,ImageFont\n",
    "\n",
    "# print(string.ascii_lowercase)\n",
    "# print(string.ascii_uppercase)\n",
    "# print(string.digits)\n",
    "\n",
    "C_W = 75 \n",
    "C_H = 100 \n",
    "\n",
    "chars = \"abcdefghijklmnopqrstuvwxyzABCDEFGHIJKLMNOPQRSTUVWXYZ0123456789-.\"\n",
    "\n",
    "def generateCharacter(char,size,color,bgColor,fontName):\n",
    "    # GENERATE AN IMAGE WITH A SINGLE CHARACTER\n",
    "   \n",
    "    img = Image.new(mode=\"L\",  size= size , color= bgColor)\n",
    "    draw = ImageDraw.Draw(img)\n",
    "\n",
    "    font = ImageFont.truetype(f\" ./fonts/Arialn.ttf\", int(size[1] * 0.8 ))\n",
    "   \n",
    "\n",
    "    draw.text((0,0), char, fill= color, font= font)\n",
    "\n",
    "    return img\n"
   ]
  },
  {
   "cell_type": "code",
   "execution_count": 20,
   "metadata": {},
   "outputs": [
    {
     "ename": "OSError",
     "evalue": "cannot open resource",
     "output_type": "error",
     "traceback": [
      "\u001b[0;31m---------------------------------------------------------------------------\u001b[0m",
      "\u001b[0;31mOSError\u001b[0m                                   Traceback (most recent call last)",
      "Cell \u001b[0;32mIn [20], line 1\u001b[0m\n\u001b[0;32m----> 1\u001b[0m img1\u001b[39m=\u001b[39m generateCharacter(\u001b[39m\"\u001b[39;49m\u001b[39mA\u001b[39;49m\u001b[39m\"\u001b[39;49m,(C_W,C_H), \u001b[39m255\u001b[39;49m, \u001b[39m0\u001b[39;49m, \u001b[39m\"\u001b[39;49m\u001b[39mArialn\u001b[39;49m\u001b[39m\"\u001b[39;49m)\n\u001b[1;32m      3\u001b[0m \u001b[39m# plt.figure()\u001b[39;00m\n\u001b[1;32m      4\u001b[0m plt\u001b[39m.\u001b[39mimshow(img1)\n",
      "Cell \u001b[0;32mIn [19], line 20\u001b[0m, in \u001b[0;36mgenerateCharacter\u001b[0;34m(char, size, color, bgColor, fontName)\u001b[0m\n\u001b[1;32m     17\u001b[0m img \u001b[39m=\u001b[39m Image\u001b[39m.\u001b[39mnew(mode\u001b[39m=\u001b[39m\u001b[39m\"\u001b[39m\u001b[39mL\u001b[39m\u001b[39m\"\u001b[39m,  size\u001b[39m=\u001b[39m size , color\u001b[39m=\u001b[39m bgColor)\n\u001b[1;32m     18\u001b[0m draw \u001b[39m=\u001b[39m ImageDraw\u001b[39m.\u001b[39mDraw(img)\n\u001b[0;32m---> 20\u001b[0m font \u001b[39m=\u001b[39m ImageFont\u001b[39m.\u001b[39;49mtruetype(\u001b[39mf\u001b[39;49m\u001b[39m\"\u001b[39;49m\u001b[39m ./static/Arialn.ttf\u001b[39;49m\u001b[39m\"\u001b[39;49m, \u001b[39mint\u001b[39;49m(size[\u001b[39m1\u001b[39;49m] \u001b[39m*\u001b[39;49m \u001b[39m0.8\u001b[39;49m ))\n\u001b[1;32m     23\u001b[0m draw\u001b[39m.\u001b[39mtext((\u001b[39m0\u001b[39m,\u001b[39m0\u001b[39m), char, fill\u001b[39m=\u001b[39m color, font\u001b[39m=\u001b[39m font)\n\u001b[1;32m     25\u001b[0m \u001b[39mreturn\u001b[39;00m img\n",
      "File \u001b[0;32m~/Desktop/PY-PROJECTS/Machine_Learning/ML_venv/lib/python3.10/site-packages/PIL/ImageFont.py:959\u001b[0m, in \u001b[0;36mtruetype\u001b[0;34m(font, size, index, encoding, layout_engine)\u001b[0m\n\u001b[1;32m    956\u001b[0m     \u001b[39mreturn\u001b[39;00m FreeTypeFont(font, size, index, encoding, layout_engine)\n\u001b[1;32m    958\u001b[0m \u001b[39mtry\u001b[39;00m:\n\u001b[0;32m--> 959\u001b[0m     \u001b[39mreturn\u001b[39;00m freetype(font)\n\u001b[1;32m    960\u001b[0m \u001b[39mexcept\u001b[39;00m \u001b[39mOSError\u001b[39;00m:\n\u001b[1;32m    961\u001b[0m     \u001b[39mif\u001b[39;00m \u001b[39mnot\u001b[39;00m is_path(font):\n",
      "File \u001b[0;32m~/Desktop/PY-PROJECTS/Machine_Learning/ML_venv/lib/python3.10/site-packages/PIL/ImageFont.py:956\u001b[0m, in \u001b[0;36mtruetype.<locals>.freetype\u001b[0;34m(font)\u001b[0m\n\u001b[1;32m    955\u001b[0m \u001b[39mdef\u001b[39;00m \u001b[39mfreetype\u001b[39m(font):\n\u001b[0;32m--> 956\u001b[0m     \u001b[39mreturn\u001b[39;00m FreeTypeFont(font, size, index, encoding, layout_engine)\n",
      "File \u001b[0;32m~/Desktop/PY-PROJECTS/Machine_Learning/ML_venv/lib/python3.10/site-packages/PIL/ImageFont.py:247\u001b[0m, in \u001b[0;36mFreeTypeFont.__init__\u001b[0;34m(self, font, size, index, encoding, layout_engine)\u001b[0m\n\u001b[1;32m    245\u001b[0m                 load_from_bytes(f)\n\u001b[1;32m    246\u001b[0m             \u001b[39mreturn\u001b[39;00m\n\u001b[0;32m--> 247\u001b[0m     \u001b[39mself\u001b[39m\u001b[39m.\u001b[39mfont \u001b[39m=\u001b[39m core\u001b[39m.\u001b[39;49mgetfont(\n\u001b[1;32m    248\u001b[0m         font, size, index, encoding, layout_engine\u001b[39m=\u001b[39;49mlayout_engine\n\u001b[1;32m    249\u001b[0m     )\n\u001b[1;32m    250\u001b[0m \u001b[39melse\u001b[39;00m:\n\u001b[1;32m    251\u001b[0m     load_from_bytes(font)\n",
      "\u001b[0;31mOSError\u001b[0m: cannot open resource"
     ]
    }
   ],
   "source": [
    "img1= generateCharacter(\"A\",(C_W,C_H), 255, 0, \"Arialn\")\n",
    "\n",
    "# plt.figure()\n",
    "plt.imshow(img1)"
   ]
  }
 ],
 "metadata": {
  "kernelspec": {
   "display_name": "Python 3.10.8 ('ML_venv': venv)",
   "language": "python",
   "name": "python3"
  },
  "language_info": {
   "codemirror_mode": {
    "name": "ipython",
    "version": 3
   },
   "file_extension": ".py",
   "mimetype": "text/x-python",
   "name": "python",
   "nbconvert_exporter": "python",
   "pygments_lexer": "ipython3",
   "version": "3.10.8"
  },
  "orig_nbformat": 4,
  "vscode": {
   "interpreter": {
    "hash": "3fa1869d48508ae027acca88019d77fb35d0ae569849f7efe365cc6f3fee5449"
   }
  }
 },
 "nbformat": 4,
 "nbformat_minor": 2
}
