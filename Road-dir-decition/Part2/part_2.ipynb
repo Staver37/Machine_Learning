{
 "cells": [
  {
   "cell_type": "markdown",
   "metadata": {},
   "source": [
    "## LINEAR NN / CLASIFICATION / DECISION MAKING\n",
    "# PART 2\n",
    "## LET'S TRY to solve the same problem using a SINGLE NEURON with a slight modification\n",
    "\n",
    "* DUE to the fact that we have an input with 2 conflicting values we will modify the input so it will have non-conflicting values\n",
    "TO DO THIS will use \"ONE HOT ENCONDING\"\n",
    "<br>\n",
    "<img src=\"img4.png\" style=\"width:500px;height 500px\"/>\n",
    "<br>\n",
    "\n"
   ]
  },
  {
   "cell_type": "code",
   "execution_count": 37,
   "metadata": {},
   "outputs": [],
   "source": [
    "# MODEL\n",
    "class DoubtNeuron:\n",
    "    \n",
    "    def __init__(self):\n",
    "        #               w0 w1\n",
    "        self.weights = [ 0, 0, 0, 0]\n",
    "        self.bias    = 0\n",
    "\n",
    "    def activate(self, x):\n",
    "        e = 2.72\n",
    "        return 1 / ( 1 + e ** -x )\n",
    "    \n",
    "    def forward(self, X):\n",
    "        y = self.weights[0] * X[0] + self.weights[1] * X[1] + self.weights[2] * X[2] + self.weights[3] * X[3] + self.bias\n",
    "        y = self.activate(y)\n",
    "        return y\n",
    "    \n",
    "    def __str__(self):\n",
    "        return f\"{self.weights[0]: 12.6f} * x0 {self.weights[1]: 12.6f}* x1 {self.weights[2]: 12.6f}* x2{self.weights[3]: 12.6f}* x3 + {self.bias: 12.6f}\"\n",
    "\n",
    "def loss(y, yp):\n",
    "    return y - yp"
   ]
  },
  {
   "cell_type": "code",
   "execution_count": 38,
   "metadata": {},
   "outputs": [],
   "source": [
    "# DATA SET\n",
    "data_set_X = [\n",
    "    [0,0],\n",
    "    [0,1],\n",
    "    [1,0],\n",
    "    [1,1]\n",
    "]\n",
    "data_set_x_one_hot = [\n",
    "    [1, 0, 0, 0],\n",
    "    [0, 1, 0, 0],\n",
    "    [0, 0, 1, 0],\n",
    "    [0, 0, 0, 1]\n",
    "\n",
    "]\n",
    "data_set_Y = [\n",
    "    0,\n",
    "    1,\n",
    "    1,\n",
    "    0\n",
    "]"
   ]
  },
  {
   "cell_type": "code",
   "execution_count": 39,
   "metadata": {},
   "outputs": [
    {
     "name": "stdout",
     "output_type": "stream",
     "text": [
      "epoch:    0 done!\n",
      "epoch: 9100 done!\n",
      "epoch:18200 done!\n",
      "epoch:27300 done!\n",
      "epoch:36400 done!\n",
      "epoch:45500 done!\n",
      "epoch:54600 done!\n",
      "epoch:63700 done!\n",
      "epoch:72800 done!\n",
      "epoch:81900 done!\n",
      "epoch:91000 done!\n",
      "   -6.898143 * x0     6.898206* x1     6.898143* x2   -6.898206* x3 +     0.000000\n"
     ]
    }
   ],
   "source": [
    "# TRAINING\n",
    "lr = 0.01\n",
    "model = DoubtNeuron()\n",
    "for epoch in range(100000):\n",
    "    # pass trough all the data on each epoch\n",
    "    for i in range(4):\n",
    "        xt = data_set_x_one_hot[i]\n",
    "        yt = data_set_Y[i]\n",
    "        \n",
    "        yp = model.forward(xt)\n",
    "\n",
    "        e = loss(yt,yp)\n",
    "\n",
    "        dBias = lr * e \n",
    "        dweight0 = lr * e * xt[0]\n",
    "        dweight1 = lr * e * xt[1]\n",
    "        dweight2 = lr * e * xt[2]\n",
    "        dweight3 = lr * e * xt[3]\n",
    "\n",
    "        model.bias += dBias\n",
    "        model.weights[0] += dweight0\n",
    "        model.weights[1] += dweight1\n",
    "        model.weights[2] += dweight2\n",
    "        model.weights[3] += dweight3\n",
    "        \n",
    "  \n",
    "    if epoch % 9100 == 0:\n",
    "        print(f\"epoch:{epoch:5} done!\")\n",
    "\n",
    "print(model)"
   ]
  },
  {
   "cell_type": "code",
   "execution_count": 40,
   "metadata": {},
   "outputs": [
    {
     "name": "stdout",
     "output_type": "stream",
     "text": [
      "0: [1, 0, 0, 0] ->     0.001004\n",
      "1: [0, 1, 0, 0] ->     0.998996\n",
      "2: [0, 0, 1, 0] ->     0.998996\n",
      "3: [0, 0, 0, 1] ->     0.001004\n"
     ]
    }
   ],
   "source": [
    "# Testing\n",
    "for i in range (4):\n",
    "    xt = data_set_x_one_hot[i]\n",
    "    yp = model.forward(xt)\n",
    "    print(f\"{i}: {xt} -> {yp:12.6f}\")"
   ]
  }
 ],
 "metadata": {
  "kernelspec": {
   "display_name": "Python 3.10.4 64-bit",
   "language": "python",
   "name": "python3"
  },
  "language_info": {
   "codemirror_mode": {
    "name": "ipython",
    "version": 3
   },
   "file_extension": ".py",
   "mimetype": "text/x-python",
   "name": "python",
   "nbconvert_exporter": "python",
   "pygments_lexer": "ipython3",
   "version": "3.10.4"
  },
  "orig_nbformat": 4,
  "vscode": {
   "interpreter": {
    "hash": "aee8b7b246df8f9039afb4144a1f6fd8d2ca17a180786b69acc140d282b71a49"
   }
  }
 },
 "nbformat": 4,
 "nbformat_minor": 2
}
