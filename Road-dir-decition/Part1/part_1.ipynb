{
 "cells": [
  {
   "cell_type": "markdown",
   "metadata": {},
   "source": [
    "## LET'S TRY to solve the next situation with a SINGLE NEURON \n",
    "### Imagine wew have a ROAD with no outlets:left,right\n",
    "* if the driver stopes or tries both direcction  simultaneously- INCORECT\n",
    "* if the driver goes either left or right - CORRECT\n",
    "<br>\n",
    "<img src=\"Img1.png\" style=\"width:300px;height 400px\"/>\n",
    "<br>\n",
    "\n",
    "### The training will be based on the next neuronal model\n",
    "\n",
    "<br>\n",
    "<img src=\"Img2.png\" style=\"width:400px;height 500px\"/>\n"
   ]
  },
  {
   "cell_type": "code",
   "execution_count": 27,
   "metadata": {},
   "outputs": [],
   "source": [
    "# MODEL\n",
    "class DoubtNeuron:\n",
    "    \n",
    "    def __init__(self):\n",
    "        #               w0 w1\n",
    "        self.weights = [ 0, 0 ]\n",
    "        self.bias    = 0\n",
    "\n",
    "    def activate(self, x):\n",
    "        e = 2.72\n",
    "        return 1 / ( 1 + e ** -x )\n",
    "    \n",
    "    def forward(self, X):\n",
    "        y = self.weights[0] * X[0] + self.weights[1] * X[1] + self.bias\n",
    "        y = self.activate(y)\n",
    "        return y\n",
    "    \n",
    "    def __str__(self):\n",
    "        return f\"{self.weights[0]: 12.6f} * x0 {self.weights[1]: 12.6f}* x1 + {self.bias: 12.6f}\"\n",
    "\n",
    "def loss(y, yp):\n",
    "    return y - yp"
   ]
  },
  {
   "cell_type": "code",
   "execution_count": 28,
   "metadata": {},
   "outputs": [],
   "source": [
    "# DATA SET\n",
    "data_set_X = [\n",
    "    [0,0],\n",
    "    [0,1],\n",
    "    [1,0],\n",
    "    [1,1]\n",
    "]\n",
    "data_set_Y = [\n",
    "    0,\n",
    "    1,\n",
    "    1,\n",
    "    0\n",
    "]"
   ]
  },
  {
   "cell_type": "code",
   "execution_count": 31,
   "metadata": {},
   "outputs": [
    {
     "name": "stdout",
     "output_type": "stream",
     "text": [
      "    0.000000 * x0     0.000000* x1 +    -0.005000\n",
      "    0.000000 * x0     0.005013* x1 +     0.000013\n",
      "    0.005000 * x0     0.005013* x1 +     0.005012\n",
      "   -0.000038 * x0    -0.000025* x1 +    -0.000025\n"
     ]
    }
   ],
   "source": [
    "# TRAINING\n",
    "lr = 0.01\n",
    "model = DoubtNeuron()\n",
    "for epoch in range(10000):\n",
    "    # pass trough all the data on each epoch\n",
    "    for i in range(4):\n",
    "        xt = data_set_X[i]\n",
    "        yt = data_set_Y[i]\n",
    "        \n",
    "        yp = model.forward(xt)\n",
    "\n",
    "        e = loss(yt,yp)\n",
    "\n",
    "        dBias = lr * e \n",
    "        dweight0 = lr * e * xt[0]\n",
    "        dweight1 = lr * e * xt[1]\n",
    "\n",
    "        model.bias += dBias\n",
    "        model.weights[0] += dweight0\n",
    "        model.weights[1] += dweight1\n",
    "        \n",
    "  \n",
    "    if epoch % 1000 == 0:\n",
    "        print(f\"epoch:{epoch:5} done\")\n",
    "\n",
    "print(model)"
   ]
  },
  {
   "cell_type": "code",
   "execution_count": 30,
   "metadata": {},
   "outputs": [
    {
     "name": "stdout",
     "output_type": "stream",
     "text": [
      "0: [0, 0] ->     0.501254\n",
      "1: [0, 1] ->     0.500000\n",
      "2: [1, 0] ->     0.498746\n",
      "3: [1, 1] ->     0.497492\n"
     ]
    }
   ],
   "source": [
    "# Testing\n",
    "for i in range (4):\n",
    "    xt = data_set_X[i]\n",
    "    yp = model.forward(xt)\n",
    "    print(f\"{i}: {xt} -> {yp:12.6f}\")"
   ]
  }
 ],
 "metadata": {
  "kernelspec": {
   "display_name": "Python 3.10.4 64-bit",
   "language": "python",
   "name": "python3"
  },
  "language_info": {
   "codemirror_mode": {
    "name": "ipython",
    "version": 3
   },
   "file_extension": ".py",
   "mimetype": "text/x-python",
   "name": "python",
   "nbconvert_exporter": "python",
   "pygments_lexer": "ipython3",
   "version": "3.10.4"
  },
  "orig_nbformat": 4,
  "vscode": {
   "interpreter": {
    "hash": "aee8b7b246df8f9039afb4144a1f6fd8d2ca17a180786b69acc140d282b71a49"
   }
  }
 },
 "nbformat": 4,
 "nbformat_minor": 2
}
