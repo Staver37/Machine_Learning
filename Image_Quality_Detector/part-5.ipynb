{
 "cells": [
  {
   "cell_type": "markdown",
   "metadata": {},
   "source": [
    "# ML/ Image Quality Detector\n",
    "> part 5\n",
    "Assembly the entire model (NN)"
   ]
  },
  {
   "cell_type": "markdown",
   "metadata": {},
   "source": [
    "### LET's ASSEMBLE the entire model (NN)\n",
    "\n",
    "## First, we will modify our CNN layer so it:\n",
    "\n",
    "1. has 32 kernels with the dimension 20x20 pixels\n",
    "2. we will configure the kernels to \"walk\" from 20 pixels(stride)\n",
    "3. the layer will output 32 images of 25 x 25 \"PIXELS\", each pixel will coresponde to a \"sector\" in the original image\n",
    "<img src=\"./imagesCNN/img5.png\" style=\"width:900px;height 900px\"/>"
   ]
  },
  {
   "cell_type": "markdown",
   "metadata": {},
   "source": [
    "## Secound, we will:\n",
    "1. \"flaten\" the CNN output so it fits into a Linear Neuronal Layers, so 32 images with 32 images with 25 will flaten into a vector of 1 x 20000 values\n",
    "2. at the output of the linear layer we will have a vector of 2\n",
    "<img src=\"./imagesCNN/img6.png\" style=\"width:900px;height 900px\"/>"
   ]
  },
  {
   "cell_type": "code",
   "execution_count": 130,
   "metadata": {},
   "outputs": [],
   "source": [
    "import os\n",
    "\n",
    "from PIL import Image,ImageOps\n",
    "import matplotlib.pyplot as plt\n",
    "import numpy as np \n",
    "\n",
    "import torch, torch.nn as nn, torch.optim as optim\n"
   ]
  },
  {
   "cell_type": "code",
   "execution_count": 131,
   "metadata": {},
   "outputs": [],
   "source": [
    "# Image Helpers \n",
    "def loadImages(folder,number=50):\n",
    "    images = []\n",
    "    count = 0\n",
    "    file_names = os.listdir(folder)\n",
    "    for file_name in file_names:\n",
    "            img = Image.open(folder+\"/\"+file_name)\n",
    "            img = ImageOps.grayscale(img)\n",
    "            img_matrix= np.array(img)\n",
    "            images.append(img_matrix)\n",
    "            # print(file_name)\n",
    "            count += 1\n",
    "            if count == number:\n",
    "                  break\n",
    "\n",
    "            \n",
    "    return images\n",
    "\n",
    "def imageToTensor(img):\n",
    "      img_tensor = torch.from_numpy(img).type(torch.FloatTensor).view(1,500,500)\n",
    "      return img_tensor"
   ]
  },
  {
   "cell_type": "code",
   "execution_count": 132,
   "metadata": {},
   "outputs": [],
   "source": [
    "# Prep The Model     -->  create multi layer of neurons NN\n",
    "model = nn.Sequential(\n",
    "    #                            v--nn.layers      V-- pixels taken\n",
    "    nn.Conv2d(in_channels=1,out_channels=32,kernel_size=(20,20), stride = (20,20)), # layer 0 <- Neurons\n",
    "    nn.Flatten(start_dim=0), # No have neurons  transform function\n",
    "    nn.Linear(in_features=20000, out_features=2),                                    # layer 1 <- Neurons\n",
    ")"
   ]
  },
  {
   "cell_type": "code",
   "execution_count": 138,
   "metadata": {},
   "outputs": [
    {
     "name": "stdout",
     "output_type": "stream",
     "text": [
      "loaded100 images\n"
     ]
    }
   ],
   "source": [
    "# PREPARING DATASET\n",
    "original_images  = loadImages(\"images/original\")\n",
    "# blurred_images   = loadImages(\"images/blurred\")   \n",
    "lowq_images      = loadImages(\"images/lowq\")      \n",
    "# sharpened_images = loadImages(\"images/sharpened\")\n",
    "\n",
    "print(f\"loaded{len(original_images)+ len(lowq_images)} images\")\n"
   ]
  },
  {
   "cell_type": "code",
   "execution_count": 139,
   "metadata": {},
   "outputs": [],
   "source": [
    "## Preparing Data sets\n",
    "\n",
    "x = original_images + lowq_images # 100 [50 - good, 50 - bad]\n",
    "#      V --- GOOD                    V-- BAD \n",
    "y = [[0,1] for _ in range(50)] + [[1,0] for _ in range(50)]"
   ]
  },
  {
   "cell_type": "code",
   "execution_count": 135,
   "metadata": {},
   "outputs": [
    {
     "name": "stdout",
     "output_type": "stream",
     "text": [
      "torch.Size([2])\n",
      "tensor([ 6.8441, 29.3239], grad_fn=<AddBackward0>)\n"
     ]
    }
   ],
   "source": [
    "# pass one image trough the CNN\n",
    "img_tensor = imageToTensor(original_images[49])\n",
    "otuput= model(img_tensor)\n",
    "print(otuput.shape)\n",
    "print(otuput)\n"
   ]
  },
  {
   "cell_type": "code",
   "execution_count": null,
   "metadata": {},
   "outputs": [],
   "source": [
    "## Training setup\n",
    "from turtle import mode\n",
    "\n",
    "criterion = nn.BCEWithLogitsLoss()\n",
    "optimizer = optim.SGD(model.parameters(),lr=0.00001)\n",
    "\n",
    "for epoch in range(1000):\n",
    "    for i in range(len(x)):\n",
    "        x_tensor= imageToTensor(x[i])\n",
    "        y_tensor = torch.FloatTensor(y[i])\n",
    "\n",
    "        optimizer.zero_grad()\n",
    "        y_predicted = model(x_tensor)\n",
    "\n",
    "        loss = criterion(y_predicted, y_tensor)\n",
    "\n",
    "        loss.backward()\n",
    "        optimizer.step()\n",
    "\n",
    "    if epoch % 10 == 0:\n",
    "        print(f\"epoch = {epoch:5},loss= {loss:10.8f}\")"
   ]
  },
  {
   "cell_type": "code",
   "execution_count": 140,
   "metadata": {},
   "outputs": [
    {
     "name": "stdout",
     "output_type": "stream",
     "text": [
      "predicted correctly 52.0%\n"
     ]
    }
   ],
   "source": [
    "## Let's test it\n",
    "correct = 0 \n",
    "for i in range(len(x)):\n",
    "    x_tensor= imageToTensor(x[i])\n",
    "    y_predicted = model(x_tensor)\n",
    "    y_tensor = torch.FloatTensor(y[i])\n",
    "    if(torch.argmax(y_predicted)) == torch.argmax(y_tensor):\n",
    "        correct += 1\n",
    "\n",
    "        \n",
    "accuracy = (correct / len(x))* 100       \n",
    "print(f\"predicted correctly {accuracy}%\")\n"
   ]
  },
  {
   "cell_type": "code",
   "execution_count": null,
   "metadata": {},
   "outputs": [],
   "source": [
    "## Check what the filters \"learned\"\n",
    "for f in  model[0].weight:\n",
    "    plt.figure()\n",
    "    plt.imshow(f.detach().numpy()[0])\n",
    "    "
   ]
  },
  {
   "cell_type": "markdown",
   "metadata": {},
   "source": [
    "## Conclusion \n",
    "- how to optimize\n",
    "1. expend the dataset up to 1000 images\n",
    "2. increase the filters up to 64\n",
    "3. increase the number of epochs 10000\n",
    "4. optimize on GPU"
   ]
  }
 ],
 "metadata": {
  "kernelspec": {
   "display_name": "Python 3.10.8 ('ML_venv': venv)",
   "language": "python",
   "name": "python3"
  },
  "language_info": {
   "codemirror_mode": {
    "name": "ipython",
    "version": 3
   },
   "file_extension": ".py",
   "mimetype": "text/x-python",
   "name": "python",
   "nbconvert_exporter": "python",
   "pygments_lexer": "ipython3",
   "version": "3.10.8"
  },
  "orig_nbformat": 4,
  "vscode": {
   "interpreter": {
    "hash": "3fa1869d48508ae027acca88019d77fb35d0ae569849f7efe365cc6f3fee5449"
   }
  }
 },
 "nbformat": 4,
 "nbformat_minor": 2
}
