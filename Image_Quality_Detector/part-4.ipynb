{
 "cells": [
  {
   "cell_type": "markdown",
   "metadata": {},
   "source": [
    "# ML/ Image Quality Detector\n",
    "> part 4\n",
    "## CNN layer can LEARN image FEATURES\n",
    "\n",
    "!!! The deeper layer, the HIGHER will be the FEATURES it learns"
   ]
  },
  {
   "cell_type": "markdown",
   "metadata": {},
   "source": [
    "### Before assemling a complex NN, let's inspect the images we have\n",
    "\n",
    "we have to choise the correct:\n",
    "\n",
    "* CNN depth \n",
    "    deph = 1\n",
    "* kernel size \n",
    "    min <SIZE=(15x15)<max\n",
    "* numbers of filters\n",
    " min < N (32) < max\n",
    "* how we transfer the information in the deeper layer\n",
    "average/mean"
   ]
  },
  {
   "cell_type": "markdown",
   "metadata": {},
   "source": [
    "\n",
    "                                  image_1_version_1 \n",
    "                               /\n",
    "      image_1(500x500) ---> CNN - image_1_version_2\n",
    "                                  ........\n",
    "                                \\\n",
    "                                  image_1_version_32\n",
    "\n",
    "      output_size = input_size - K_size + 1"
   ]
  },
  {
   "cell_type": "code",
   "execution_count": 38,
   "metadata": {},
   "outputs": [],
   "source": [
    "import os\n",
    "\n",
    "from PIL import Image,ImageOps\n",
    "import matplotlib.pyplot as plt\n",
    "import numpy as np \n",
    "import torch,torch.nn as nn,torch.optim as optim\n"
   ]
  },
  {
   "cell_type": "code",
   "execution_count": 39,
   "metadata": {},
   "outputs": [],
   "source": [
    "# Image Helpers \n",
    "\n",
    "def loadImages(folder,number=10):\n",
    "    # images=[]\n",
    "    file_names = os.listdir(folder)\n",
    "    \n",
    "    for file_name in file_names:\n",
    "        img = Image.open(folder+\"/\"+file_name)\n",
    "        img = ImageOps.grayscale(img)\n",
    "        img_matrix= np.array(img)\n",
    "        print(img_matrix)\n",
    "        break\n",
    "    #   images.append(img_matrix)\n",
    "     \n",
    "    # return images\n",
    "    "
   ]
  },
  {
   "cell_type": "code",
   "execution_count": 40,
   "metadata": {},
   "outputs": [
    {
     "ename": "UnidentifiedImageError",
     "evalue": "cannot identify image file 'images/original/.DS_Store'",
     "output_type": "error",
     "traceback": [
      "\u001b[0;31m---------------------------------------------------------------------------\u001b[0m",
      "\u001b[0;31mUnidentifiedImageError\u001b[0m                    Traceback (most recent call last)",
      "Cell \u001b[0;32mIn [40], line 2\u001b[0m\n\u001b[1;32m      1\u001b[0m \u001b[39m# PREPARING DATASET\u001b[39;00m\n\u001b[0;32m----> 2\u001b[0m original_images \u001b[39m=\u001b[39m loadImages(\u001b[39m\"\u001b[39;49m\u001b[39mimages/original\u001b[39;49m\u001b[39m\"\u001b[39;49m)\n",
      "Cell \u001b[0;32mIn [39], line 8\u001b[0m, in \u001b[0;36mloadImages\u001b[0;34m(folder, number)\u001b[0m\n\u001b[1;32m      5\u001b[0m file_names \u001b[39m=\u001b[39m os\u001b[39m.\u001b[39mlistdir(folder)\n\u001b[1;32m      7\u001b[0m \u001b[39mfor\u001b[39;00m file_name \u001b[39min\u001b[39;00m file_names:\n\u001b[0;32m----> 8\u001b[0m     img \u001b[39m=\u001b[39m Image\u001b[39m.\u001b[39;49mopen(folder\u001b[39m+\u001b[39;49m\u001b[39m\"\u001b[39;49m\u001b[39m/\u001b[39;49m\u001b[39m\"\u001b[39;49m\u001b[39m+\u001b[39;49mfile_name)\n\u001b[1;32m      9\u001b[0m     img \u001b[39m=\u001b[39m ImageOps\u001b[39m.\u001b[39mgrayscale(img)\n\u001b[1;32m     10\u001b[0m     img_matrix\u001b[39m=\u001b[39m np\u001b[39m.\u001b[39marray(img)\n",
      "File \u001b[0;32m~/Library/Python/3.9/lib/python/site-packages/PIL/Image.py:3147\u001b[0m, in \u001b[0;36mopen\u001b[0;34m(fp, mode, formats)\u001b[0m\n\u001b[1;32m   3145\u001b[0m \u001b[39mfor\u001b[39;00m message \u001b[39min\u001b[39;00m accept_warnings:\n\u001b[1;32m   3146\u001b[0m     warnings\u001b[39m.\u001b[39mwarn(message)\n\u001b[0;32m-> 3147\u001b[0m \u001b[39mraise\u001b[39;00m UnidentifiedImageError(\n\u001b[1;32m   3148\u001b[0m     \u001b[39m\"\u001b[39m\u001b[39mcannot identify image file \u001b[39m\u001b[39m%r\u001b[39;00m\u001b[39m\"\u001b[39m \u001b[39m%\u001b[39m (filename \u001b[39mif\u001b[39;00m filename \u001b[39melse\u001b[39;00m fp)\n\u001b[1;32m   3149\u001b[0m )\n",
      "\u001b[0;31mUnidentifiedImageError\u001b[0m: cannot identify image file 'images/original/.DS_Store'"
     ]
    }
   ],
   "source": [
    "# PREPARING DATASET\n",
    "original_images = loadImages(\"images/original\")\n",
    "# print(\"done\")  \n",
    "# lowq_images = loadImages(\"images/lowq\")\n",
    "# print(\"done\")  \n",
    "# blurred_images = loadImages(\"images/blurred\")\n",
    "# print(\"done\")  \n",
    "# sharpened_images = loadImages(\"images/sharpened\")\n",
    "# print(\"done\")  \n"
   ]
  }
 ],
 "metadata": {
  "kernelspec": {
   "display_name": "Python 3.9.6 ('CNN_venv': venv)",
   "language": "python",
   "name": "python3"
  },
  "language_info": {
   "codemirror_mode": {
    "name": "ipython",
    "version": 3
   },
   "file_extension": ".py",
   "mimetype": "text/x-python",
   "name": "python",
   "nbconvert_exporter": "python",
   "pygments_lexer": "ipython3",
   "version": "3.9.6"
  },
  "orig_nbformat": 4,
  "vscode": {
   "interpreter": {
    "hash": "a2ee8d95c9115b5694893cb6856ab0405a0ef48ed6825af70ee031182a94eef1"
   }
  }
 },
 "nbformat": 4,
 "nbformat_minor": 2
}
