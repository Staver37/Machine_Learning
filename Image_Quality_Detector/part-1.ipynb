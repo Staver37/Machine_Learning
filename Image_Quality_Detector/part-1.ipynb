{
 "cells": [
  {
   "cell_type": "markdown",
   "metadata": {},
   "source": [
    "## ML / Image Quality Detector\n",
    "* Internet Scavering\n",
    "* Automatic Image procesing\n",
    "* CNN (Convolutional Neural networks)\n",
    "*  DNN ( Deep Neural Networks)\n",
    "* Clasification problem\n",
    "\n",
    "+ numpy   +\n",
    "+ venv    +\n",
    "+ request +\n",
    "+ PIL      \n",
    "+ torch"
   ]
  },
  {
   "cell_type": "code",
   "execution_count": 5,
   "metadata": {},
   "outputs": [],
   "source": [
    "import requests\n",
    "from time import sleep\n",
    "from PIL import Image,ImageFilter\n",
    "\n",
    "URL =\"https://picsum.photos/500/500\"\n",
    "IMG_DIR_ORIGINAL = \"./images/original/\"\n",
    "IMG_DIR_LOWQ     = \"./images/lowq/\"\n",
    "# IMG_DIR_BLURRED  = \"./images/blurred/\"\n",
    "# IMG_DIR_SHAPED   = \"./images/sharpened/\"\n",
    "IMG_AMOUNT       = 100\n"
   ]
  },
  {
   "cell_type": "markdown",
   "metadata": {},
   "source": [
    "## Gathering Images"
   ]
  },
  {
   "cell_type": "code",
   "execution_count": 6,
   "metadata": {},
   "outputs": [],
   "source": [
    "#               Original images\n",
    "for i in range(IMG_AMOUNT):\n",
    "    res = requests.get(URL)\n",
    "    if res.status_code == 200:    \n",
    "        file = open(IMG_DIR_ORIGINAL + f\"image_{i:05d}.jpg\", \"wb\") # open new file in web binar in the dir\n",
    "        file.write (res.content)\n",
    "        file.close()\n",
    "    sleep(0.5) # avoid  DDOS atack"
   ]
  },
  {
   "cell_type": "code",
   "execution_count": 7,
   "metadata": {},
   "outputs": [],
   "source": [
    "# Generating LOWQ images\n",
    "# https://pillow.readthedocs.io/en/stable/installation.html\n",
    "for i in range(IMG_AMOUNT):\n",
    "    \n",
    "    img = Image.open(IMG_DIR_ORIGINAL + f\"image_{i:05d}.jpg\") # open new file in web binar in the dir\n",
    "    img.save(IMG_DIR_LOWQ + f\"image_{i:05d}.jpg\", quality = 20)    \n",
    "\n",
    "\n",
    "\n",
    "   "
   ]
  },
  {
   "cell_type": "code",
   "execution_count": 8,
   "metadata": {},
   "outputs": [],
   "source": [
    "# Generating LOWQ images\n",
    "# https://pillow.readthedocs.io/en/stable/installation.html\n",
    "for i in range(IMG_AMOUNT):\n",
    "    img = Image.open(IMG_DIR_ORIGINAL + f\"image_{i:05d}.jpg\") # open new file in web binar in the dir\n",
    "    img.save(IMG_DIR_LOWQ + f\"image_{i:05d}.jpg\", quality = 20)    \n"
   ]
  },
  {
   "cell_type": "code",
   "execution_count": 9,
   "metadata": {},
   "outputs": [],
   "source": [
    "# Generating BLURED images\n",
    "for i in range(IMG_AMOUNT):\n",
    "    img = Image.open(IMG_DIR_ORIGINAL + f\"image_{i:05d}.jpg\") # open new file in web binar in the dir\n",
    "    img = img.filter(ImageFilter.BLUR)\n",
    "    img.save(IMG_DIR_BLURRED + f\"image_{i:05d}.jpg\")    \n"
   ]
  },
  {
   "cell_type": "code",
   "execution_count": 10,
   "metadata": {},
   "outputs": [],
   "source": [
    "# Generating BLURED images\n",
    "# https://pillow.readthedocs.io/en/stable/reference/ImageFilter.html?highlight=filter#module-PIL.ImageFilter\n",
    "for i in range(IMG_AMOUNT):\n",
    "    img = Image.open(IMG_DIR_ORIGINAL + f\"image_{i:05d}.jpg\") # open new file in web binar in the dir\n",
    "    img = img.filter(ImageFilter.SHARPEN)\n",
    "    img = img.filter(ImageFilter.SHARPEN)\n",
    "    img = img.filter(ImageFilter.SHARPEN)\n",
    "    img.save(IMG_DIR_SHAPED + f\"image_{i:05d}.jpg\")    \n"
   ]
  }
 ],
 "metadata": {
  "kernelspec": {
   "display_name": "Python 3.10.8 ('ML_venv': venv)",
   "language": "python",
   "name": "python3"
  },
  "language_info": {
   "codemirror_mode": {
    "name": "ipython",
    "version": 3
   },
   "file_extension": ".py",
   "mimetype": "text/x-python",
   "name": "python",
   "nbconvert_exporter": "python",
   "pygments_lexer": "ipython3",
   "version": "3.10.8"
  },
  "orig_nbformat": 4,
  "vscode": {
   "interpreter": {
    "hash": "3fa1869d48508ae027acca88019d77fb35d0ae569849f7efe365cc6f3fee5449"
   }
  }
 },
 "nbformat": 4,
 "nbformat_minor": 2
}
