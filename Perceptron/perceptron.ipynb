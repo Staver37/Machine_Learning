{
 "cells": [
  {
   "cell_type": "markdown",
   "metadata": {},
   "source": [
    "# Let's try to create a SINGLE NEURON from SCRACH:)!\n",
    "### CREATE A NEURON /Part 1\n",
    "## Let's create a neuron that estimates the room temperature\n",
    "\n",
    "<img src=\"Traning data NN.png\" style=\"width:500px;height 500px\"/>"
   ]
  },
  {
   "cell_type": "code",
   "execution_count": 1,
   "metadata": {},
   "outputs": [
    {
     "name": "stdout",
     "output_type": "stream",
     "text": [
      "X >     Y\n",
      "-------\n",
      "  0     0\n",
      "  1     0\n",
      "  2     0\n",
      "  3     0\n",
      "  4     0\n",
      "  5     0\n",
      "  6     0\n",
      "  7     0\n",
      "  8     0\n",
      "  9     0\n",
      " 10     0\n",
      " 11     0\n",
      " 12     0\n",
      " 13     0\n",
      " 14     0\n",
      " 15     1\n",
      " 16     1\n",
      " 17     1\n",
      " 18     1\n",
      " 19     1\n",
      " 20     1\n",
      " 21     1\n",
      " 22     1\n",
      " 23     1\n",
      " 24     1\n",
      " 25     1\n",
      " 26     1\n",
      " 27     1\n",
      " 28     1\n",
      " 29     1\n",
      " 30     1\n",
      " 31     1\n",
      " 32     1\n",
      " 33     1\n",
      " 34     1\n",
      " 35     1\n",
      " 36     1\n",
      " 37     1\n",
      " 38     1\n",
      " 39     1\n",
      " 40     1\n",
      " 41     1\n",
      " 42     1\n",
      " 43     1\n",
      " 44     1\n",
      " 45     1\n",
      " 46     1\n",
      " 47     1\n",
      " 48     1\n",
      " 49     1\n",
      " 50     1\n"
     ]
    },
    {
     "data": {
      "image/png": "[encoded data removed]",
      "text/plain": [
       "<Figure size 432x288 with 1 Axes>"
      ]
     },
     "metadata": {
      "needs_background": "light"
     },
     "output_type": "display_data"
    }
   ],
   "source": [
    "# Input:   room temperature [0..50] Celsuis degrees\n",
    "# Output:  (0..1)/ ok - hot\n",
    "print(\"X >     Y\")\n",
    "print(\"-------\")\n",
    "# CORECT SOLUTION\n",
    "# T >= 30 -> THEN HOT\n",
    "from random import randint\n",
    "#from matplotlib import pyplot\n",
    "import matplotlib.pyplot as plt\n",
    "# X -----> (NEURON)  --------> Y\n",
    "\n",
    "x = []\n",
    "y = []\n",
    "\n",
    "for i in range(51):\n",
    "\n",
    "    # X = randint(0,50)\n",
    "    X = i\n",
    "    x.append(X)\n",
    "    ############# NEURON ####################\n",
    "    B = 1\n",
    "    W = 0.27\n",
    "    # Sum of imputs\n",
    "    Yt =int( X * W + B )\n",
    "    # step activation function\n",
    "    Y = 1 if Yt >= 5 else 0\n",
    "    ############# NEURON ####################\n",
    "\n",
    "    y.append(Y)\n",
    "    plt.plot(x,y)\n",
    "# ^          ^=================\n",
    "# |          ^\n",
    "# |          ^\n",
    "#0===========^-----------------> Yt\n",
    "#            5\n",
    "\n",
    "    print(f\"{X:3}   {Y:3}\")\n",
    "\n",
    "\n",
    "\n",
    "\n"
   ]
  }
 ],
 "metadata": {
  "kernelspec": {
   "display_name": "Python 3.10.4 64-bit",
   "language": "python",
   "name": "python3"
  },
  "language_info": {
   "codemirror_mode": {
    "name": "ipython",
    "version": 3
   },
   "file_extension": ".py",
   "mimetype": "text/x-python",
   "name": "python",
   "nbconvert_exporter": "python",
   "pygments_lexer": "ipython3",
   "version": "3.10.4"
  },
  "orig_nbformat": 4,
  "vscode": {
   "interpreter": {
    "hash": "aee8b7b246df8f9039afb4144a1f6fd8d2ca17a180786b69acc140d282b71a49"
   }
  }
 },
 "nbformat": 4,
 "nbformat_minor": 2
}
