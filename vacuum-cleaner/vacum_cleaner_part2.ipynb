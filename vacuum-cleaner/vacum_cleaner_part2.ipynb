{
 "cells": [
  {
   "cell_type": "code",
   "execution_count": null,
   "metadata": {},
   "outputs": [],
   "source": []
  },
  {
   "cell_type": "markdown",
   "metadata": {},
   "source": [
    "# Explicit logic\n",
    "\n",
    "## The setup\n",
    "* let's add in-the base\n",
    "* let's add in-the obstacle\n",
    "* at each state (position) the agent is THE EXPLICIT intellect will try each of the 4 action (simulate) and decide which one is the most suitable , based on the reward/penalty\n",
    "\n",
    "## Say we have the robot in coords [0,0] and dir RIGHT\n",
    "if it:\n",
    "    \n",
    "        1.turns right--> 0\n",
    "        2.turns left--> 0\n",
    "        3.moves forward --> 0\n",
    "        4.moves backward --> -2 \n",
    "*.what if it has to reach the base? \n",
    "\n",
    "*.what if there is a long obstacle on the way?\n",
    "\n"
   ]
  }
 ],
 "metadata": {
  "kernelspec": {
   "display_name": "Python 3.10.4 64-bit",
   "language": "python",
   "name": "python3"
  },
  "language_info": {
   "codemirror_mode": {
    "name": "ipython",
    "version": 3
   },
   "file_extension": ".py",
   "mimetype": "text/x-python",
   "name": "python",
   "nbconvert_exporter": "python",
   "pygments_lexer": "ipython3",
   "version": "3.10.4"
  },
  "orig_nbformat": 4,
  "vscode": {
   "interpreter": {
    "hash": "aee8b7b246df8f9039afb4144a1f6fd8d2ca17a180786b69acc140d282b71a49"
   }
  }
 },
 "nbformat": 4,
 "nbformat_minor": 2
}
