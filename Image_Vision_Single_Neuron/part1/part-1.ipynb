{
 "cells": [
  {
   "cell_type": "markdown",
   "metadata": {},
   "source": [
    "# Linear NN / CLASIFICATION/DETECTION\n",
    "# PART 1\n",
    "## LET'S train a neuron to \"detect\" a symbol from a raster image\n",
    "\n",
    "Imagine we have a pixel matrix where color are in the diaposon of [0...1] with a resolution of 3 x 3 pixels and the NEURON'S task is to detect if the image is a \"plus\" sign(1) or not(0)<br>\n",
    "* Activation Function: Sigmoid function\n",
    "<br>\n",
    "<img src=\"imag1.png\" style=\"width:600px;height 600px\"/>\n",
    "<br>\n",
    "\n",
    "### Keypoints\n",
    "* SHAPE/RESHAPE\n",
    "* BATCH\n",
    "* FORWARD PASS\n",
    "* LINEAR PERCEPTRON\n",
    "* SIGMOID ACTIVATION FUNCTION\n",
    "* SENSIBILITY\n",
    "<hr>\n",
    "\n",
    "* OOP approach  "
   ]
  },
  {
   "cell_type": "code",
   "execution_count": 1,
   "metadata": {},
   "outputs": [],
   "source": [
    "# \n",
    "#\n",
    "\n",
    "class LinearNeuronDetect:\n",
    "    \n",
    "    def __init__(self):\n",
    "        self.wights = [0 for i in range(9)]\n",
    "        self.bias = 0\n",
    "    \n",
    "    def sigmoidActivation(self,x):\n",
    "        e = 2.71828182845905\n",
    "        return 1/ (1 + e ** - x) \n",
    "    \n",
    "    def forward(self, X):\n",
    "        y = self.bias\n",
    "        for i in range(9):\n",
    "            y += X[i]* self.wights[i]\n",
    "        \n",
    "        y = self.sigmoidActivation(y)\n",
    "        \n",
    "        return y\n",
    "    def __str__(self):\n",
    "        return str(self.wights) + \" \"  + str(self.bias)\n",
    "\n",
    "def reshapeMatrix(X):\n",
    "    Xt = []\n",
    "    for i in range(3):\n",
    "        for j in range(3):\n",
    "            Xt.append( X[i][j])\n",
    "    return Xt"
   ]
  },
  {
   "cell_type": "code",
   "execution_count": 2,
   "metadata": {},
   "outputs": [
    {
     "name": "stdout",
     "output_type": "stream",
     "text": [
      "[1, 1, 1, 0, 0, 0, 1, 1, 1]\n",
      "[-1, 1, -1, 1, 1, 1, -1, 1, -1] 0\n",
      "0.11920292202211717\n"
     ]
    }
   ],
   "source": [
    "# bach of data\n",
    "X_data_set = [\n",
    "    [ # +\n",
    "    [0, 1, 0], \n",
    "    [1, 1, 1], \n",
    "    [0, 1, 0]\n",
    "    ],\n",
    "    [ # -\n",
    "    [0, 0, 0], \n",
    "    [1, 1, 1], \n",
    "    [0, 0, 0]\n",
    "    ],\n",
    "    [ # \\\n",
    "    [1, 0, 0], \n",
    "    [0, 1, 0], \n",
    "    [0, 0, 1]\n",
    "    ],\n",
    "    [ # =\n",
    "    [1, 1, 1], \n",
    "    [0, 0, 0], \n",
    "    [1, 1, 1]\n",
    "    ]\n",
    "]\n",
    "lnd_plus = LinearNeuronDetect()\n",
    "lnd_plus.wights[0] = -1\n",
    "lnd_plus.wights[1] =  1\n",
    "lnd_plus.wights[2] = -1\n",
    "lnd_plus.wights[3] =  1\n",
    "lnd_plus.wights[4] =  1\n",
    "lnd_plus.wights[5] =  1\n",
    "lnd_plus.wights[6] = -1\n",
    "lnd_plus.wights[7] =  1\n",
    "lnd_plus.wights[8] = -1\n",
    "\n",
    "Xt = reshapeMatrix(X_data_set[3])\n",
    "print(Xt)\n",
    "y = lnd_plus.forward(Xt)\n",
    "print(lnd_plus)\n",
    "print(y)"
   ]
  }
 ],
 "metadata": {
  "kernelspec": {
   "display_name": "Python 3.10.4 64-bit",
   "language": "python",
   "name": "python3"
  },
  "language_info": {
   "codemirror_mode": {
    "name": "ipython",
    "version": 3
   },
   "file_extension": ".py",
   "mimetype": "text/x-python",
   "name": "python",
   "nbconvert_exporter": "python",
   "pygments_lexer": "ipython3",
   "version": "3.10.4"
  },
  "orig_nbformat": 4,
  "vscode": {
   "interpreter": {
    "hash": "aee8b7b246df8f9039afb4144a1f6fd8d2ca17a180786b69acc140d282b71a49"
   }
  }
 },
 "nbformat": 4,
 "nbformat_minor": 2
}
