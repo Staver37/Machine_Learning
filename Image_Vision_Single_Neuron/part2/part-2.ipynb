{
 "cells": [
  {
   "cell_type": "markdown",
   "metadata": {},
   "source": [
    "# Linear NN / CLASIFICATION/DETECTION\n",
    "# PART 2\n",
    "## LET'S train a neuron to \"detect\" a symbol from a raster image\n",
    "\n",
    "Imagine we have a pixel matrix where color are in the diaposon of [0...1] with a resolution of 3 x 3 pixels and the NEURON'S task is to detect if the image is a \"plus\" sign(1) or not(0)<br>\n",
    "<br>\n",
    "<img src=\"imag2.png\" style=\"width:800px;height 800px\"/>\n",
    "<br>\n",
    "\n",
    " "
   ]
  },
  {
   "cell_type": "code",
   "execution_count": 98,
   "metadata": {},
   "outputs": [],
   "source": [
    "# bach of TRAINING data\n",
    "Xtrain = [\n",
    "    [ # + --> 1\n",
    "    [0, 1, 0], \n",
    "    [1, 1, 1], \n",
    "    [0, 1, 0]\n",
    "    ],\n",
    "    [ # - --> 0\n",
    "    [0, 0, 0], \n",
    "    [1, 1, 1], \n",
    "    [0, 0, 0]\n",
    "    ],\n",
    "    [ # \\ --> 0\n",
    "    [1, 0, 0], \n",
    "    [0, 1, 0], \n",
    "    [0, 0, 1]\n",
    "    ],\n",
    "    [ # = --> 0\n",
    "    [1, 1, 1], \n",
    "    [0, 0, 0], \n",
    "    [1, 1, 1]\n",
    "    ],\n",
    "    [ # / --> 0\n",
    "    [0, 0, 1], \n",
    "    [0, 1, 0], \n",
    "    [1, 0, 0]\n",
    "    ],\n",
    "    [\n",
    "    [0, 1, 0], \n",
    "    [1, 1, 0], \n",
    "    [0, 1, 0]\n",
    "    ],\n",
    "    [ \n",
    "    [0, 1, 0], \n",
    "    [1, 0, 1], \n",
    "    [0, 1, 0]\n",
    "    ]\n",
    "]\n",
    "\n",
    "Strain = [\n",
    "    \"+\"  ,\n",
    "    \"-\"  ,\n",
    "    \"\\\\\" ,\n",
    "    \"=\"  ,\n",
    "    \"/\"  ,\n",
    "    \"-|\" ,\n",
    "    \"-|-\"\n",
    "]\n",
    "\n",
    "Ytrain = [\n",
    "    1,\n",
    "    0,\n",
    "    0,\n",
    "    0,\n",
    "    0,\n",
    "    0,\n",
    "    0\n",
    "]\n",
    "\n",
    "# bach of TESTING data\n",
    "Xtest = [\n",
    "    [ \n",
    "    [1, 1, 0], \n",
    "    [1, 1, 1], \n",
    "    [0, 1, 0]\n",
    "    ],\n",
    "    [ \n",
    "    [1, 1, 1], \n",
    "    [1, 1, 1], \n",
    "    [1, 1, 1]\n",
    "    ],\n",
    "    [\n",
    "    [1, 1, 1], \n",
    "    [0, 1, 0], \n",
    "    [1, 1, 1]\n",
    "    ]\n",
    "]\n",
    "Ytest = [\n",
    "    0,\n",
    "    0,\n",
    "    0\n",
    "    ]\n",
    "\n",
    "Stest = [\n",
    "    \"-|\",\n",
    "    \"-|-\",\n",
    "    \" X\"\n",
    "]\n"
   ]
  },
  {
   "cell_type": "markdown",
   "metadata": {},
   "source": []
  },
  {
   "cell_type": "code",
   "execution_count": 99,
   "metadata": {},
   "outputs": [],
   "source": [
    "# x - single value\n",
    "# X - collections\n",
    "\n",
    "class LinearNeuronDetect:\n",
    "\n",
    "    def __init__(self):\n",
    "        self.weights = [0 for i in range(9)]\n",
    "        self.bias = 0\n",
    "    \n",
    "    # def stepActivation(x):\n",
    "    #     return 1 if x >=1 else 0\n",
    "    \n",
    "    \n",
    "    def sigmoidActivation(self, x ):\n",
    "        e = 2.71828182845905\n",
    "        return 1/ ( 1 + e ** - x ) \n",
    "    \n",
    "    def forward(self, X):\n",
    "        y = self.bias\n",
    "        for i in range(9):\n",
    "            y += X[i]* self.weights[i]\n",
    "        \n",
    "        y = self.sigmoidActivation(y)\n",
    "        \n",
    "        return y\n",
    "\n",
    "    def __str__(self):\n",
    "        out = \"\"\n",
    "        for i in range(9):\n",
    "            if i  % 3 == 0:\n",
    "                out += \"\\n\"\n",
    "            \n",
    "            out += f\"{self.weights[i]:10.5f} \"\n",
    "\n",
    "        out += \"\\n\"    \n",
    "        out += f\"{self.bias:10.5f}\"\n",
    "        return out\n",
    "\n",
    "def loss(Y, Yp):\n",
    "    return Y - Yp\n",
    "    \n",
    "def reshapeMatrix(X):\n",
    "    Xt = []\n",
    "    for i in range(3):\n",
    "        for j in range(3):\n",
    "            Xt.append( X[i][j])\n",
    "    return Xt"
   ]
  },
  {
   "cell_type": "markdown",
   "metadata": {},
   "source": [
    "### Neuron traning"
   ]
  },
  {
   "cell_type": "code",
   "execution_count": null,
   "metadata": {},
   "outputs": [],
   "source": [
    "neuron = LinearNeuronDetect()\n",
    "\n",
    "lr =0.01\n",
    "\n",
    "for epoch in range(1,5000):\n",
    "    errors = []\n",
    "    for i in range(7):\n",
    "\n",
    "        # FORWARD  PASS  \n",
    "        xt = Xtrain[i]\n",
    "        yt = Ytrain[i]\n",
    "\n",
    "        xt = reshapeMatrix(xt)\n",
    "        yp = neuron.forward(xt)\n",
    "\n",
    "        # ESTIMATE LOSS\n",
    "        e = loss(yt, yp)\n",
    "        \n",
    "        # BACKPROPAGATION / OPTIMIZATION\n",
    "        dBias = lr * e\n",
    "        neuron.bias += dBias\n",
    "\n",
    "        for j in range(9):\n",
    "            dweight = lr * e * xt[j]\n",
    "            neuron.weights[j] += dweight\n",
    "        errors.append(e)\n",
    "    # epoch stats\n",
    "    me = abs(sum(errors)/7)\n",
    "    print(\"--------------------------------------------\")\n",
    "    print(f\"epoch:{epoch}\")    \n",
    "    print(f\"loss:{me:10.5f}\")\n",
    "    #print(neuron)\n",
    "\n"
   ]
  },
  {
   "cell_type": "markdown",
   "metadata": {},
   "source": [
    "### TESTING"
   ]
  },
  {
   "cell_type": "code",
   "execution_count": 103,
   "metadata": {},
   "outputs": [
    {
     "name": "stdout",
     "output_type": "stream",
     "text": [
      "+   loss:    0.20137 Yp   0.79863\n",
      "-   loss:   -0.06514 Yp   0.06514\n",
      "\\   loss:   -0.00433 Yp   0.00433\n",
      "=   loss:   -0.00039 Yp   0.00039\n",
      "/   loss:   -0.00434 Yp   0.00434\n",
      "-|  loss:   -0.08496 Yp   0.08496\n",
      "-|- loss:   -0.09509 Yp   0.09509\n",
      "-|  loss:   -0.49015 Yp   0.49015\n",
      "-|- loss:   -0.01353 Yp   0.01353\n"
     ]
    }
   ],
   "source": [
    "X = Xtrain + Xtest\n",
    "Y = Ytrain + Ytest\n",
    "S = Strain + Stest\n",
    "for i in range(9):\n",
    "        xt = X[i]\n",
    "        yt = Y[i]\n",
    "        xt = reshapeMatrix(xt)\n",
    "        yp = neuron.forward(xt)\n",
    "        e = loss(yt, yp)\n",
    "        print(f\"{S[i]:3} loss: {e:10.5f} Yp{yp: 10.5f}\")"
   ]
  },
  {
   "cell_type": "code",
   "execution_count": 102,
   "metadata": {},
   "outputs": [
    {
     "name": "stdout",
     "output_type": "stream",
     "text": [
      "\n",
      "  -1.41713    2.02082   -1.41649 \n",
      "  -3.81541    3.63073    3.75447 \n",
      "  -1.41649    2.02082   -1.41713 \n",
      "  -6.23369\n"
     ]
    }
   ],
   "source": [
    "print(neuron)"
   ]
  }
 ],
 "metadata": {
  "kernelspec": {
   "display_name": "Python 3.10.4 64-bit",
   "language": "python",
   "name": "python3"
  },
  "language_info": {
   "codemirror_mode": {
    "name": "ipython",
    "version": 3
   },
   "file_extension": ".py",
   "mimetype": "text/x-python",
   "name": "python",
   "nbconvert_exporter": "python",
   "pygments_lexer": "ipython3",
   "version": "3.10.4"
  },
  "orig_nbformat": 4,
  "vscode": {
   "interpreter": {
    "hash": "aee8b7b246df8f9039afb4144a1f6fd8d2ca17a180786b69acc140d282b71a49"
   }
  }
 },
 "nbformat": 4,
 "nbformat_minor": 2
}
