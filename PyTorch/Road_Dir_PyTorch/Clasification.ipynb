{
 "cells": [
  {
   "cell_type": "markdown",
   "metadata": {},
   "source": [
    "# Using PyTorch\n",
    "## Liniar NN / Micro Auto Driver\n",
    "<img src=\"img1.png\" style=\"width:400px;height 500px\"/>\n"
   ]
  },
  {
   "cell_type": "markdown",
   "metadata": {},
   "source": [
    "# The DNN will be composed of 3 layers:\n",
    "* input layer\n",
    "* hiden layer\n",
    "* output layer"
   ]
  },
  {
   "cell_type": "code",
   "execution_count": 37,
   "metadata": {},
   "outputs": [],
   "source": [
    "x_train = [\n",
    "    [0,0],\n",
    "    [0,1],\n",
    "    [1,0],\n",
    "    [1,1]\n",
    "    ]\n",
    "y_train = [\n",
    "    [0],\n",
    "    [1],\n",
    "    [1],\n",
    "    [0]\n",
    "    ]"
   ]
  },
  {
   "cell_type": "code",
   "execution_count": 38,
   "metadata": {},
   "outputs": [
    {
     "name": "stdout",
     "output_type": "stream",
     "text": [
      "Sequential(\n",
      "  (0): Linear(in_features=2, out_features=3, bias=True)\n",
      "  (1): Sigmoid()\n",
      "  (2): Linear(in_features=3, out_features=1, bias=True)\n",
      "  (3): Sigmoid()\n",
      ")\n"
     ]
    }
   ],
   "source": [
    "## Model(NN)\n",
    "## asy  way !!!\n",
    "import torch\n",
    "from torch import nn\n",
    "\n",
    "\n",
    "model = nn.Sequential(\n",
    "    nn.Linear(2,3),\n",
    "    nn.Sigmoid(),\n",
    "    nn.Linear(3,1),\n",
    "    nn.Sigmoid() # Activation Fn\n",
    ")\n",
    "\n",
    "print(model)"
   ]
  },
  {
   "cell_type": "code",
   "execution_count": 39,
   "metadata": {},
   "outputs": [
    {
     "name": "stdout",
     "output_type": "stream",
     "text": [
      "epoch=    0 e=    0.256220 a=    0.500000\n",
      "epoch= 1000 e=    0.244331 a=    0.500000\n",
      "epoch= 2000 e=    0.162562 a=    0.750000\n",
      "epoch= 3000 e=    0.036979 a=    1.000000\n"
     ]
    }
   ],
   "source": [
    "## Train the model\n",
    "\n",
    "loss = nn.MSELoss() # estimati error to output\n",
    "optimizer = torch.optim.SGD(model.parameters(),lr = 0.1 ) # optimize the network parameter\n",
    "\n",
    "for epoch in range(4000):\n",
    "\n",
    "    e = 0\n",
    "    a = 0\n",
    "    \n",
    "    for i in range(len(x_train)):\n",
    "            x = torch.tensor(x_train[i],dtype = torch.float)\n",
    "            ye = torch.tensor(y_train[i],dtype = torch.float)\n",
    "            \n",
    "            # reset\n",
    "            optimizer.zero_grad() \n",
    "\n",
    "            # predict\n",
    "            yp = model(x)\n",
    "\n",
    "\n",
    "            # error\n",
    "            error = loss(ye,yp)\n",
    "            ypc   = torch.tensor([\n",
    "                1 if yp[0]>0.5 else 0\n",
    "            ], dtype=float)\n",
    "\n",
    "            # back propagation\n",
    "            error.backward()\n",
    "\n",
    "            # optimizer\n",
    "            optimizer.step()\n",
    "\n",
    "            # statistics\n",
    "            e += error\n",
    "            \n",
    "            # print(f\"{yp} {ye}\")\n",
    "            if ypc == ye:\n",
    "                a = a + 1 \n",
    "\n",
    "\n",
    "    if epoch % 1000 == 0:\n",
    "        print(f\"epoch={epoch:5} e={e/4:12.6f} a={a/4:12.6f}\")\n",
    "            "
   ]
  }
 ],
 "metadata": {
  "kernelspec": {
   "display_name": "Python 3.10.4 64-bit",
   "language": "python",
   "name": "python3"
  },
  "language_info": {
   "codemirror_mode": {
    "name": "ipython",
    "version": 3
   },
   "file_extension": ".py",
   "mimetype": "text/x-python",
   "name": "python",
   "nbconvert_exporter": "python",
   "pygments_lexer": "ipython3",
   "version": "3.10.4"
  },
  "orig_nbformat": 4,
  "vscode": {
   "interpreter": {
    "hash": "aee8b7b246df8f9039afb4144a1f6fd8d2ca17a180786b69acc140d282b71a49"
   }
  }
 },
 "nbformat": 4,
 "nbformat_minor": 2
}
