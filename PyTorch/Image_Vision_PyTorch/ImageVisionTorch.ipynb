{
 "cells": [
  {
   "cell_type": "markdown",
   "metadata": {},
   "source": [
    "# Using PyTorch\n",
    "## Liniar NN / Micro Auto Driver\n",
    "<img src=\"img1.png\" style=\"width:400px;height 500px\"/>\n"
   ]
  },
  {
   "cell_type": "markdown",
   "metadata": {},
   "source": [
    "# The DNN will be composed of 3 layers:\n",
    "* input layer\n",
    "* hiden layer\n",
    "* output layer"
   ]
  },
  {
   "cell_type": "code",
   "execution_count": 29,
   "metadata": {},
   "outputs": [],
   "source": [
    "# x_train = [\n",
    "#     [0,0],\n",
    "#     [0,1],\n",
    "#     [1,0],\n",
    "#     [1,1]\n",
    "#     ]\n",
    "# y_train = [\n",
    "#     [0],\n",
    "#     [1],\n",
    "#     [1],\n",
    "#     [0]\n",
    "#     ]"
   ]
  },
  {
   "cell_type": "code",
   "execution_count": 30,
   "metadata": {},
   "outputs": [],
   "source": [
    "x_train = [\n",
    "    [ # + --> 1\n",
    "    [0, 1, 0], \n",
    "    [1, 1, 1], \n",
    "    [0, 1, 0]\n",
    "    ],\n",
    "    [ # - --> 0\n",
    "    [0, 0, 0], \n",
    "    [1, 1, 1], \n",
    "    [0, 0, 0]\n",
    "    ],\n",
    "    [ # \\ --> 0\n",
    "    [1, 0, 0], \n",
    "    [0, 1, 0], \n",
    "    [0, 0, 1]\n",
    "    ],\n",
    "    [ # = --> 0\n",
    "    [1, 1, 1], \n",
    "    [0, 0, 0], \n",
    "    [1, 1, 1]\n",
    "    ],\n",
    "    [ # / --> 0\n",
    "    [0, 0, 1], \n",
    "    [0, 1, 0], \n",
    "    [1, 0, 0]\n",
    "    ],\n",
    "    [\n",
    "    [0, 1, 0], \n",
    "    [1, 1, 0], \n",
    "    [0, 1, 0]\n",
    "    ],\n",
    "    [ \n",
    "    [0, 1, 0], \n",
    "    [1, 0, 1], \n",
    "    [0, 1, 0]\n",
    "    ]\n",
    "]\n",
    "\n",
    "Strain = [\n",
    "    \"+\"  ,\n",
    "    \"-\"  ,\n",
    "    \"\\\\\" ,\n",
    "    \"=\"  ,\n",
    "    \"/\"  ,\n",
    "    \"-|\" ,\n",
    "    \"-|-\"\n",
    "]\n",
    "\n",
    "y_train = [\n",
    "    1,\n",
    "    0,\n",
    "    0,\n",
    "    0,\n",
    "    0,\n",
    "    0,\n",
    "    0\n",
    "]\n",
    "\n",
    "# bach of TESTING data\n",
    "Xtest = [\n",
    "    [ \n",
    "    [1, 1, 0], \n",
    "    [1, 1, 1], \n",
    "    [0, 1, 0]\n",
    "    ],\n",
    "    [ \n",
    "    [1, 1, 1], \n",
    "    [1, 1, 1], \n",
    "    [1, 1, 1]\n",
    "    ],\n",
    "    [\n",
    "    [1, 1, 1], \n",
    "    [0, 1, 0], \n",
    "    [1, 1, 1]\n",
    "    ]\n",
    "]\n",
    "Ytest = [\n",
    "    0,\n",
    "    0,\n",
    "    0\n",
    "    ]\n",
    "\n",
    "Stest = [\n",
    "    \"-|\",\n",
    "    \"-|-\",\n",
    "    \" X\"\n",
    "]"
   ]
  },
  {
   "cell_type": "code",
   "execution_count": 33,
   "metadata": {},
   "outputs": [
    {
     "name": "stdout",
     "output_type": "stream",
     "text": [
      "Sequential(\n",
      "  (0): Linear(in_features=3, out_features=3, bias=True)\n",
      "  (1): Sigmoid()\n",
      ")\n"
     ]
    }
   ],
   "source": [
    "## Model(NN)\n",
    "## asy  way !!!\n",
    "import torch\n",
    "from torch import nn\n",
    "\n",
    "\n",
    "model = nn.Sequential(\n",
    "    nn.Linear(3,3),\n",
    "    # nn.Sigmoid(),\n",
    "    # nn.Linear(3,1),\n",
    "    nn.Sigmoid() # Activation Fn\n",
    ")\n",
    "\n",
    "print(model)"
   ]
  },
  {
   "cell_type": "code",
   "execution_count": 34,
   "metadata": {},
   "outputs": [
    {
     "name": "stderr",
     "output_type": "stream",
     "text": [
      "/Library/Frameworks/Python.framework/Versions/3.10/lib/python3.10/site-packages/torch/nn/modules/loss.py:530: UserWarning: Using a target size (torch.Size([3, 3])) that is different to the input size (torch.Size([])). This will likely lead to incorrect results due to broadcasting. Please ensure they have the same size.\n",
      "  return F.mse_loss(input, target, reduction=self.reduction)\n"
     ]
    },
    {
     "ename": "RuntimeError",
     "evalue": "Boolean value of Tensor with more than one value is ambiguous",
     "output_type": "error",
     "traceback": [
      "\u001b[0;31m---------------------------------------------------------------------------\u001b[0m",
      "\u001b[0;31mRuntimeError\u001b[0m                              Traceback (most recent call last)",
      "\u001b[1;32m/Users/adrian/Desktop/PY-PROJECTS/Level 2/ML/PyTorch/Image_Vision_PyTorch/ImageVisionTorch.ipynb Cell 6\u001b[0m in \u001b[0;36m<cell line: 6>\u001b[0;34m()\u001b[0m\n\u001b[1;32m     <a href='vscode-notebook-cell:/Users/adrian/Desktop/PY-PROJECTS/Level%202/ML/PyTorch/Image_Vision_PyTorch/ImageVisionTorch.ipynb#W4sZmlsZQ%3D%3D?line=21'>22</a>\u001b[0m \u001b[39m# error\u001b[39;00m\n\u001b[1;32m     <a href='vscode-notebook-cell:/Users/adrian/Desktop/PY-PROJECTS/Level%202/ML/PyTorch/Image_Vision_PyTorch/ImageVisionTorch.ipynb#W4sZmlsZQ%3D%3D?line=22'>23</a>\u001b[0m error \u001b[39m=\u001b[39m loss(ye,yp)\n\u001b[1;32m     <a href='vscode-notebook-cell:/Users/adrian/Desktop/PY-PROJECTS/Level%202/ML/PyTorch/Image_Vision_PyTorch/ImageVisionTorch.ipynb#W4sZmlsZQ%3D%3D?line=23'>24</a>\u001b[0m ypc   \u001b[39m=\u001b[39m torch\u001b[39m.\u001b[39mtensor([\n\u001b[0;32m---> <a href='vscode-notebook-cell:/Users/adrian/Desktop/PY-PROJECTS/Level%202/ML/PyTorch/Image_Vision_PyTorch/ImageVisionTorch.ipynb#W4sZmlsZQ%3D%3D?line=24'>25</a>\u001b[0m     \u001b[39m1\u001b[39m \u001b[39mif\u001b[39;00m yp[\u001b[39m0\u001b[39m]\u001b[39m>\u001b[39m\u001b[39m0.5\u001b[39m \u001b[39melse\u001b[39;00m \u001b[39m0\u001b[39m\n\u001b[1;32m     <a href='vscode-notebook-cell:/Users/adrian/Desktop/PY-PROJECTS/Level%202/ML/PyTorch/Image_Vision_PyTorch/ImageVisionTorch.ipynb#W4sZmlsZQ%3D%3D?line=25'>26</a>\u001b[0m ], dtype\u001b[39m=\u001b[39m\u001b[39mfloat\u001b[39m)\n\u001b[1;32m     <a href='vscode-notebook-cell:/Users/adrian/Desktop/PY-PROJECTS/Level%202/ML/PyTorch/Image_Vision_PyTorch/ImageVisionTorch.ipynb#W4sZmlsZQ%3D%3D?line=27'>28</a>\u001b[0m \u001b[39m# back propagation\u001b[39;00m\n\u001b[1;32m     <a href='vscode-notebook-cell:/Users/adrian/Desktop/PY-PROJECTS/Level%202/ML/PyTorch/Image_Vision_PyTorch/ImageVisionTorch.ipynb#W4sZmlsZQ%3D%3D?line=28'>29</a>\u001b[0m error\u001b[39m.\u001b[39mbackward()\n",
      "\u001b[0;31mRuntimeError\u001b[0m: Boolean value of Tensor with more than one value is ambiguous"
     ]
    }
   ],
   "source": [
    "## Train the model \n",
    "\n",
    "loss = nn.MSELoss() # estimati error to output\n",
    "optimizer = torch.optim.SGD(model.parameters(),lr = 0.1 ) # optimize the network parameter\n",
    "\n",
    "for epoch in range(4000):\n",
    "\n",
    "    e = 0\n",
    "    a = 0\n",
    "    \n",
    "    for i in range(len(x_train)):\n",
    "            x = torch.tensor(x_train[i],dtype = torch.float)\n",
    "            ye = torch.tensor(y_train[i],dtype = torch.float)\n",
    "            \n",
    "            # reset\n",
    "            optimizer.zero_grad() \n",
    "\n",
    "            # predict\n",
    "            yp = model(x)\n",
    "\n",
    "\n",
    "            # error\n",
    "            error = loss(ye,yp)\n",
    "            ypc   = torch.tensor([\n",
    "                1 if yp[0]>0.5 else 0\n",
    "            ], dtype=float)\n",
    "\n",
    "            # back propagation\n",
    "            error.backward()\n",
    "\n",
    "            # optimizer\n",
    "            optimizer.step()\n",
    "\n",
    "            # statistics\n",
    "            e += error\n",
    "            \n",
    "            # print(f\"{yp} {ye}\")\n",
    "            if ypc == ye:\n",
    "                a = a + 1 \n",
    "\n",
    "\n",
    "    if epoch % 1000 == 0:\n",
    "        print(f\"epoch={epoch:5} e={e/4:12.6f} a={a/4:12.6f}\")\n",
    "            "
   ]
  }
 ],
 "metadata": {
  "kernelspec": {
   "display_name": "Python 3.10.4 64-bit",
   "language": "python",
   "name": "python3"
  },
  "language_info": {
   "codemirror_mode": {
    "name": "ipython",
    "version": 3
   },
   "file_extension": ".py",
   "mimetype": "text/x-python",
   "name": "python",
   "nbconvert_exporter": "python",
   "pygments_lexer": "ipython3",
   "version": "3.10.4"
  },
  "orig_nbformat": 4,
  "vscode": {
   "interpreter": {
    "hash": "aee8b7b246df8f9039afb4144a1f6fd8d2ca17a180786b69acc140d282b71a49"
   }
  }
 },
 "nbformat": 4,
 "nbformat_minor": 2
}
