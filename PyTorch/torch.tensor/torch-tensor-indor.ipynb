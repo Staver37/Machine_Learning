{
 "cells": [
  {
   "cell_type": "markdown",
   "metadata": {},
   "source": [
    "# PyTorch\n",
    "* site:https://pytorch.org/\n",
    "* PyTorch is an open source machine learning framework based on the Torch library<br>\n",
    ">simiral concurent Tensorfllow: https://www.tensorflow.org/\n",
    "### pros\n",
    "\n",
    "* production ready\n",
    "* distributed training(cpu,gpu,networking,cloud)\n",
    "* flexible & robust \n",
    "* easy to begin with\n",
    "* oop / function oriented\n"
   ]
  },
  {
   "cell_type": "markdown",
   "metadata": {},
   "source": [
    "## torch tensor - teh CORE \"package used to store data in PyTorch\n",
    "<img src=\"img1.png\" style=\"width:700px;height 700px\"/>"
   ]
  },
  {
   "cell_type": "markdown",
   "metadata": {},
   "source": [
    "## Let's try some operations with torch tensors\n",
    "<img src=\"img2.png\" style=\"width:500px;height 500px\"/>"
   ]
  },
  {
   "cell_type": "code",
   "execution_count": 38,
   "metadata": {},
   "outputs": [],
   "source": [
    "import torch"
   ]
  },
  {
   "cell_type": "code",
   "execution_count": 39,
   "metadata": {},
   "outputs": [
    {
     "name": "stdout",
     "output_type": "stream",
     "text": [
      "tensor([[1., 2., 3.],\n",
      "        [4., 5., 6.],\n",
      "        [7., 8., 9.]], requires_grad=True)\n",
      "tensor([1.], requires_grad=True)\n"
     ]
    }
   ],
   "source": [
    "t1 = torch.tensor([\n",
    "    [1.,2.,3.],\n",
    "    [4.,5.,6.],\n",
    "    [7.,8.,9.]\n",
    "], requires_grad = True)\n",
    "\n",
    "t2 = torch.tensor([1.],requires_grad = True)\n",
    "print(t1)\n",
    "print(t2)\n"
   ]
  },
  {
   "cell_type": "code",
   "execution_count": 40,
   "metadata": {},
   "outputs": [
    {
     "name": "stdout",
     "output_type": "stream",
     "text": [
      "tensor([[ 2.,  3.,  4.],\n",
      "        [ 5.,  6.,  7.],\n",
      "        [ 8.,  9., 10.]], grad_fn=<AddBackward0>)\n",
      "tensor([[1., 0., 0.],\n",
      "        [1., 0., 0.],\n",
      "        [1., 0., 0.]])\n",
      "tensor([3.])\n"
     ]
    }
   ],
   "source": [
    "t3 = t1+t2\n",
    "t3.backward(torch.tensor([\n",
    "    [1.,0.,0.],\n",
    "    [1.,0.,0.],\n",
    "    [1.,0.,0.]\n",
    "    ]))\n",
    "\n",
    "print(t3)\n",
    "print(t1.grad)\n",
    "print(t2.grad)\n"
   ]
  }
 ],
 "metadata": {
  "kernelspec": {
   "display_name": "Python 3.10.4 64-bit",
   "language": "python",
   "name": "python3"
  },
  "language_info": {
   "codemirror_mode": {
    "name": "ipython",
    "version": 3
   },
   "file_extension": ".py",
   "mimetype": "text/x-python",
   "name": "python",
   "nbconvert_exporter": "python",
   "pygments_lexer": "ipython3",
   "version": "3.10.4"
  },
  "orig_nbformat": 4,
  "vscode": {
   "interpreter": {
    "hash": "aee8b7b246df8f9039afb4144a1f6fd8d2ca17a180786b69acc140d282b71a49"
   }
  }
 },
 "nbformat": 4,
 "nbformat_minor": 2
}
